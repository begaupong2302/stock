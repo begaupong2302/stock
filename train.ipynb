{
  "nbformat": 4,
  "nbformat_minor": 0,
  "metadata": {
    "colab": {
      "provenance": []
    },
    "kernelspec": {
      "name": "python3",
      "display_name": "Python 3"
    },
    "language_info": {
      "name": "python"
    }
  },
  "cells": [
    {
      "cell_type": "code",
      "source": [
        "import numpy as np\n",
        "import pandas as pd\n",
        "\n",
        "import os\n",
        "import matplotlib.pyplot as plt\n",
        "import pandas_datareader as web\n",
        "import datetime as dt\n",
        "\n",
        "from sklearn.preprocessing import MinMaxScaler\n",
        "from tensorflow.keras.models import Sequential\n",
        "from tensorflow.keras.layers import Dense, Dropout, LSTM\n",
        "from tensorflow.keras.callbacks import ModelCheckpoint, EarlyStopping"
      ],
      "metadata": {
        "id": "c2bEpPAkotuo"
      },
      "execution_count": 3,
      "outputs": []
    },
    {
      "cell_type": "markdown",
      "source": [
        "# Preprocessing"
      ],
      "metadata": {
        "id": "C-oMqDIJsjyx"
      }
    },
    {
      "cell_type": "code",
      "source": [
        "aat = pd.read_csv(\"/content/AAT.csv\")\n",
        "# hsg = pd.read_csv(\"/content/HSG.csv\")\n",
        "# qbs = pd.read_csv(\"/content/QBS.csv\")\n",
        "# stk = pd.read_csv(\"/content/STK.csv\")"
      ],
      "metadata": {
        "id": "EEd89QX4Ov91"
      },
      "execution_count": 4,
      "outputs": []
    },
    {
      "cell_type": "code",
      "source": [
        "aat.head()"
      ],
      "metadata": {
        "colab": {
          "base_uri": "https://localhost:8080/",
          "height": 226
        },
        "id": "N1F4lkuYaOS7",
        "outputId": "fcb95f3a-04b1-4523-929b-584d7279694a"
      },
      "execution_count": 5,
      "outputs": [
        {
          "output_type": "execute_result",
          "data": {
            "text/plain": [
              "  code        date  modificable_price  close_price  change_price_value  \\\n",
              "0  AAT  28/11/2023               4.99         4.99                0.05   \n",
              "1  AAT  27/11/2023               4.94         4.94                0.04   \n",
              "2  AAT  24/11/2023               4.90         4.90               -0.02   \n",
              "3  AAT  23/11/2023               4.92         4.92                0.01   \n",
              "4  AAT  22/11/2023               4.91         4.91                0.00   \n",
              "\n",
              "  change_price_percent  open_price  KL_GD_khoplenh  GT_GD_khoplenh  \\\n",
              "0                1.01%        4.94          241600      1193000000   \n",
              "1                0.82%        4.90          173500       856000000   \n",
              "2               -0.41%        4.89          157700       776000000   \n",
              "3                0.20%        4.95          284400      1417000000   \n",
              "4                0.00%        4.90          174000       852000000   \n",
              "\n",
              "   KL_GD_thoathuan  GT_GD_thoathuan  highest_price  lowest_price  \n",
              "0                0                0           4.99          4.92  \n",
              "1                0                0           4.95          4.90  \n",
              "2                0                0           5.00          4.88  \n",
              "3                0                0           5.10          4.91  \n",
              "4                0                0           4.96          4.88  "
            ],
            "text/html": [
              "\n",
              "  <div id=\"df-29679e54-b29b-400e-a837-1fb55d0a4165\" class=\"colab-df-container\">\n",
              "    <div>\n",
              "<style scoped>\n",
              "    .dataframe tbody tr th:only-of-type {\n",
              "        vertical-align: middle;\n",
              "    }\n",
              "\n",
              "    .dataframe tbody tr th {\n",
              "        vertical-align: top;\n",
              "    }\n",
              "\n",
              "    .dataframe thead th {\n",
              "        text-align: right;\n",
              "    }\n",
              "</style>\n",
              "<table border=\"1\" class=\"dataframe\">\n",
              "  <thead>\n",
              "    <tr style=\"text-align: right;\">\n",
              "      <th></th>\n",
              "      <th>code</th>\n",
              "      <th>date</th>\n",
              "      <th>modificable_price</th>\n",
              "      <th>close_price</th>\n",
              "      <th>change_price_value</th>\n",
              "      <th>change_price_percent</th>\n",
              "      <th>open_price</th>\n",
              "      <th>KL_GD_khoplenh</th>\n",
              "      <th>GT_GD_khoplenh</th>\n",
              "      <th>KL_GD_thoathuan</th>\n",
              "      <th>GT_GD_thoathuan</th>\n",
              "      <th>highest_price</th>\n",
              "      <th>lowest_price</th>\n",
              "    </tr>\n",
              "  </thead>\n",
              "  <tbody>\n",
              "    <tr>\n",
              "      <th>0</th>\n",
              "      <td>AAT</td>\n",
              "      <td>28/11/2023</td>\n",
              "      <td>4.99</td>\n",
              "      <td>4.99</td>\n",
              "      <td>0.05</td>\n",
              "      <td>1.01%</td>\n",
              "      <td>4.94</td>\n",
              "      <td>241600</td>\n",
              "      <td>1193000000</td>\n",
              "      <td>0</td>\n",
              "      <td>0</td>\n",
              "      <td>4.99</td>\n",
              "      <td>4.92</td>\n",
              "    </tr>\n",
              "    <tr>\n",
              "      <th>1</th>\n",
              "      <td>AAT</td>\n",
              "      <td>27/11/2023</td>\n",
              "      <td>4.94</td>\n",
              "      <td>4.94</td>\n",
              "      <td>0.04</td>\n",
              "      <td>0.82%</td>\n",
              "      <td>4.90</td>\n",
              "      <td>173500</td>\n",
              "      <td>856000000</td>\n",
              "      <td>0</td>\n",
              "      <td>0</td>\n",
              "      <td>4.95</td>\n",
              "      <td>4.90</td>\n",
              "    </tr>\n",
              "    <tr>\n",
              "      <th>2</th>\n",
              "      <td>AAT</td>\n",
              "      <td>24/11/2023</td>\n",
              "      <td>4.90</td>\n",
              "      <td>4.90</td>\n",
              "      <td>-0.02</td>\n",
              "      <td>-0.41%</td>\n",
              "      <td>4.89</td>\n",
              "      <td>157700</td>\n",
              "      <td>776000000</td>\n",
              "      <td>0</td>\n",
              "      <td>0</td>\n",
              "      <td>5.00</td>\n",
              "      <td>4.88</td>\n",
              "    </tr>\n",
              "    <tr>\n",
              "      <th>3</th>\n",
              "      <td>AAT</td>\n",
              "      <td>23/11/2023</td>\n",
              "      <td>4.92</td>\n",
              "      <td>4.92</td>\n",
              "      <td>0.01</td>\n",
              "      <td>0.20%</td>\n",
              "      <td>4.95</td>\n",
              "      <td>284400</td>\n",
              "      <td>1417000000</td>\n",
              "      <td>0</td>\n",
              "      <td>0</td>\n",
              "      <td>5.10</td>\n",
              "      <td>4.91</td>\n",
              "    </tr>\n",
              "    <tr>\n",
              "      <th>4</th>\n",
              "      <td>AAT</td>\n",
              "      <td>22/11/2023</td>\n",
              "      <td>4.91</td>\n",
              "      <td>4.91</td>\n",
              "      <td>0.00</td>\n",
              "      <td>0.00%</td>\n",
              "      <td>4.90</td>\n",
              "      <td>174000</td>\n",
              "      <td>852000000</td>\n",
              "      <td>0</td>\n",
              "      <td>0</td>\n",
              "      <td>4.96</td>\n",
              "      <td>4.88</td>\n",
              "    </tr>\n",
              "  </tbody>\n",
              "</table>\n",
              "</div>\n",
              "    <div class=\"colab-df-buttons\">\n",
              "\n",
              "  <div class=\"colab-df-container\">\n",
              "    <button class=\"colab-df-convert\" onclick=\"convertToInteractive('df-29679e54-b29b-400e-a837-1fb55d0a4165')\"\n",
              "            title=\"Convert this dataframe to an interactive table.\"\n",
              "            style=\"display:none;\">\n",
              "\n",
              "  <svg xmlns=\"http://www.w3.org/2000/svg\" height=\"24px\" viewBox=\"0 -960 960 960\">\n",
              "    <path d=\"M120-120v-720h720v720H120Zm60-500h600v-160H180v160Zm220 220h160v-160H400v160Zm0 220h160v-160H400v160ZM180-400h160v-160H180v160Zm440 0h160v-160H620v160ZM180-180h160v-160H180v160Zm440 0h160v-160H620v160Z\"/>\n",
              "  </svg>\n",
              "    </button>\n",
              "\n",
              "  <style>\n",
              "    .colab-df-container {\n",
              "      display:flex;\n",
              "      gap: 12px;\n",
              "    }\n",
              "\n",
              "    .colab-df-convert {\n",
              "      background-color: #E8F0FE;\n",
              "      border: none;\n",
              "      border-radius: 50%;\n",
              "      cursor: pointer;\n",
              "      display: none;\n",
              "      fill: #1967D2;\n",
              "      height: 32px;\n",
              "      padding: 0 0 0 0;\n",
              "      width: 32px;\n",
              "    }\n",
              "\n",
              "    .colab-df-convert:hover {\n",
              "      background-color: #E2EBFA;\n",
              "      box-shadow: 0px 1px 2px rgba(60, 64, 67, 0.3), 0px 1px 3px 1px rgba(60, 64, 67, 0.15);\n",
              "      fill: #174EA6;\n",
              "    }\n",
              "\n",
              "    .colab-df-buttons div {\n",
              "      margin-bottom: 4px;\n",
              "    }\n",
              "\n",
              "    [theme=dark] .colab-df-convert {\n",
              "      background-color: #3B4455;\n",
              "      fill: #D2E3FC;\n",
              "    }\n",
              "\n",
              "    [theme=dark] .colab-df-convert:hover {\n",
              "      background-color: #434B5C;\n",
              "      box-shadow: 0px 1px 3px 1px rgba(0, 0, 0, 0.15);\n",
              "      filter: drop-shadow(0px 1px 2px rgba(0, 0, 0, 0.3));\n",
              "      fill: #FFFFFF;\n",
              "    }\n",
              "  </style>\n",
              "\n",
              "    <script>\n",
              "      const buttonEl =\n",
              "        document.querySelector('#df-29679e54-b29b-400e-a837-1fb55d0a4165 button.colab-df-convert');\n",
              "      buttonEl.style.display =\n",
              "        google.colab.kernel.accessAllowed ? 'block' : 'none';\n",
              "\n",
              "      async function convertToInteractive(key) {\n",
              "        const element = document.querySelector('#df-29679e54-b29b-400e-a837-1fb55d0a4165');\n",
              "        const dataTable =\n",
              "          await google.colab.kernel.invokeFunction('convertToInteractive',\n",
              "                                                    [key], {});\n",
              "        if (!dataTable) return;\n",
              "\n",
              "        const docLinkHtml = 'Like what you see? Visit the ' +\n",
              "          '<a target=\"_blank\" href=https://colab.research.google.com/notebooks/data_table.ipynb>data table notebook</a>'\n",
              "          + ' to learn more about interactive tables.';\n",
              "        element.innerHTML = '';\n",
              "        dataTable['output_type'] = 'display_data';\n",
              "        await google.colab.output.renderOutput(dataTable, element);\n",
              "        const docLink = document.createElement('div');\n",
              "        docLink.innerHTML = docLinkHtml;\n",
              "        element.appendChild(docLink);\n",
              "      }\n",
              "    </script>\n",
              "  </div>\n",
              "\n",
              "\n",
              "<div id=\"df-ac326f4d-65d7-484a-a1de-fe3507af7a52\">\n",
              "  <button class=\"colab-df-quickchart\" onclick=\"quickchart('df-ac326f4d-65d7-484a-a1de-fe3507af7a52')\"\n",
              "            title=\"Suggest charts\"\n",
              "            style=\"display:none;\">\n",
              "\n",
              "<svg xmlns=\"http://www.w3.org/2000/svg\" height=\"24px\"viewBox=\"0 0 24 24\"\n",
              "     width=\"24px\">\n",
              "    <g>\n",
              "        <path d=\"M19 3H5c-1.1 0-2 .9-2 2v14c0 1.1.9 2 2 2h14c1.1 0 2-.9 2-2V5c0-1.1-.9-2-2-2zM9 17H7v-7h2v7zm4 0h-2V7h2v10zm4 0h-2v-4h2v4z\"/>\n",
              "    </g>\n",
              "</svg>\n",
              "  </button>\n",
              "\n",
              "<style>\n",
              "  .colab-df-quickchart {\n",
              "      --bg-color: #E8F0FE;\n",
              "      --fill-color: #1967D2;\n",
              "      --hover-bg-color: #E2EBFA;\n",
              "      --hover-fill-color: #174EA6;\n",
              "      --disabled-fill-color: #AAA;\n",
              "      --disabled-bg-color: #DDD;\n",
              "  }\n",
              "\n",
              "  [theme=dark] .colab-df-quickchart {\n",
              "      --bg-color: #3B4455;\n",
              "      --fill-color: #D2E3FC;\n",
              "      --hover-bg-color: #434B5C;\n",
              "      --hover-fill-color: #FFFFFF;\n",
              "      --disabled-bg-color: #3B4455;\n",
              "      --disabled-fill-color: #666;\n",
              "  }\n",
              "\n",
              "  .colab-df-quickchart {\n",
              "    background-color: var(--bg-color);\n",
              "    border: none;\n",
              "    border-radius: 50%;\n",
              "    cursor: pointer;\n",
              "    display: none;\n",
              "    fill: var(--fill-color);\n",
              "    height: 32px;\n",
              "    padding: 0;\n",
              "    width: 32px;\n",
              "  }\n",
              "\n",
              "  .colab-df-quickchart:hover {\n",
              "    background-color: var(--hover-bg-color);\n",
              "    box-shadow: 0 1px 2px rgba(60, 64, 67, 0.3), 0 1px 3px 1px rgba(60, 64, 67, 0.15);\n",
              "    fill: var(--button-hover-fill-color);\n",
              "  }\n",
              "\n",
              "  .colab-df-quickchart-complete:disabled,\n",
              "  .colab-df-quickchart-complete:disabled:hover {\n",
              "    background-color: var(--disabled-bg-color);\n",
              "    fill: var(--disabled-fill-color);\n",
              "    box-shadow: none;\n",
              "  }\n",
              "\n",
              "  .colab-df-spinner {\n",
              "    border: 2px solid var(--fill-color);\n",
              "    border-color: transparent;\n",
              "    border-bottom-color: var(--fill-color);\n",
              "    animation:\n",
              "      spin 1s steps(1) infinite;\n",
              "  }\n",
              "\n",
              "  @keyframes spin {\n",
              "    0% {\n",
              "      border-color: transparent;\n",
              "      border-bottom-color: var(--fill-color);\n",
              "      border-left-color: var(--fill-color);\n",
              "    }\n",
              "    20% {\n",
              "      border-color: transparent;\n",
              "      border-left-color: var(--fill-color);\n",
              "      border-top-color: var(--fill-color);\n",
              "    }\n",
              "    30% {\n",
              "      border-color: transparent;\n",
              "      border-left-color: var(--fill-color);\n",
              "      border-top-color: var(--fill-color);\n",
              "      border-right-color: var(--fill-color);\n",
              "    }\n",
              "    40% {\n",
              "      border-color: transparent;\n",
              "      border-right-color: var(--fill-color);\n",
              "      border-top-color: var(--fill-color);\n",
              "    }\n",
              "    60% {\n",
              "      border-color: transparent;\n",
              "      border-right-color: var(--fill-color);\n",
              "    }\n",
              "    80% {\n",
              "      border-color: transparent;\n",
              "      border-right-color: var(--fill-color);\n",
              "      border-bottom-color: var(--fill-color);\n",
              "    }\n",
              "    90% {\n",
              "      border-color: transparent;\n",
              "      border-bottom-color: var(--fill-color);\n",
              "    }\n",
              "  }\n",
              "</style>\n",
              "\n",
              "  <script>\n",
              "    async function quickchart(key) {\n",
              "      const quickchartButtonEl =\n",
              "        document.querySelector('#' + key + ' button');\n",
              "      quickchartButtonEl.disabled = true;  // To prevent multiple clicks.\n",
              "      quickchartButtonEl.classList.add('colab-df-spinner');\n",
              "      try {\n",
              "        const charts = await google.colab.kernel.invokeFunction(\n",
              "            'suggestCharts', [key], {});\n",
              "      } catch (error) {\n",
              "        console.error('Error during call to suggestCharts:', error);\n",
              "      }\n",
              "      quickchartButtonEl.classList.remove('colab-df-spinner');\n",
              "      quickchartButtonEl.classList.add('colab-df-quickchart-complete');\n",
              "    }\n",
              "    (() => {\n",
              "      let quickchartButtonEl =\n",
              "        document.querySelector('#df-ac326f4d-65d7-484a-a1de-fe3507af7a52 button');\n",
              "      quickchartButtonEl.style.display =\n",
              "        google.colab.kernel.accessAllowed ? 'block' : 'none';\n",
              "    })();\n",
              "  </script>\n",
              "</div>\n",
              "\n",
              "    </div>\n",
              "  </div>\n"
            ]
          },
          "metadata": {},
          "execution_count": 5
        }
      ]
    },
    {
      "cell_type": "code",
      "source": [
        "aat.shape"
      ],
      "metadata": {
        "colab": {
          "base_uri": "https://localhost:8080/"
        },
        "id": "3o7Ga_GERJ07",
        "outputId": "3a9758e5-8004-4724-9ac2-8dfbc120a5e2"
      },
      "execution_count": 8,
      "outputs": [
        {
          "output_type": "execute_result",
          "data": {
            "text/plain": [
              "(673, 13)"
            ]
          },
          "metadata": {},
          "execution_count": 8
        }
      ]
    },
    {
      "cell_type": "code",
      "source": [
        "aat['date'].astype"
      ],
      "metadata": {
        "colab": {
          "base_uri": "https://localhost:8080/"
        },
        "id": "DlFCFybSaRx8",
        "outputId": "66c72589-f7ba-41f2-9083-3982dbbec221"
      },
      "execution_count": 6,
      "outputs": [
        {
          "output_type": "execute_result",
          "data": {
            "text/plain": [
              "<bound method NDFrame.astype of 0      28/11/2023\n",
              "1      27/11/2023\n",
              "2      24/11/2023\n",
              "3      23/11/2023\n",
              "4      22/11/2023\n",
              "          ...    \n",
              "668    30/03/2021\n",
              "669    29/03/2021\n",
              "670    26/03/2021\n",
              "671    25/03/2021\n",
              "672    24/03/2021\n",
              "Name: date, Length: 673, dtype: object>"
            ]
          },
          "metadata": {},
          "execution_count": 6
        }
      ]
    },
    {
      "cell_type": "code",
      "source": [
        "aat.columns"
      ],
      "metadata": {
        "colab": {
          "base_uri": "https://localhost:8080/"
        },
        "id": "e_LxGistbGdD",
        "outputId": "d1beec04-77e4-4de0-d95b-901475928e00"
      },
      "execution_count": 14,
      "outputs": [
        {
          "output_type": "execute_result",
          "data": {
            "text/plain": [
              "Index(['code', 'date', 'modificable_price', 'close_price',\n",
              "       'change_price_value', 'change_price_percent', 'open_price',\n",
              "       'KL_GD_khoplenh', 'GT_GD_khoplenh', 'KL_GD_thoathuan',\n",
              "       'GT_GD_thoathuan', 'highest_price', 'lowest_price'],\n",
              "      dtype='object')"
            ]
          },
          "metadata": {},
          "execution_count": 14
        }
      ]
    },
    {
      "cell_type": "code",
      "source": [
        "# dt = aat.loc[:, ['close_price', 'highest_price', 'lowest_price']]\n",
        "dt = aat.loc[:, ['close_price']]"
      ],
      "metadata": {
        "id": "wYBIZK_VZk1k"
      },
      "execution_count": 65,
      "outputs": []
    },
    {
      "cell_type": "code",
      "source": [
        "dt.head(5)"
      ],
      "metadata": {
        "colab": {
          "base_uri": "https://localhost:8080/",
          "height": 206
        },
        "id": "wqGQLu5Tb8qS",
        "outputId": "ad5e43ee-318a-4507-ae86-cb07cff3e013"
      },
      "execution_count": 23,
      "outputs": [
        {
          "output_type": "execute_result",
          "data": {
            "text/plain": [
              "   close_price  highest_price  lowest_price\n",
              "0         4.99           4.99          4.92\n",
              "1         4.94           4.95          4.90\n",
              "2         4.90           5.00          4.88\n",
              "3         4.92           5.10          4.91\n",
              "4         4.91           4.96          4.88"
            ],
            "text/html": [
              "\n",
              "  <div id=\"df-02edfba6-1ea8-45e7-a419-ebacfbded645\" class=\"colab-df-container\">\n",
              "    <div>\n",
              "<style scoped>\n",
              "    .dataframe tbody tr th:only-of-type {\n",
              "        vertical-align: middle;\n",
              "    }\n",
              "\n",
              "    .dataframe tbody tr th {\n",
              "        vertical-align: top;\n",
              "    }\n",
              "\n",
              "    .dataframe thead th {\n",
              "        text-align: right;\n",
              "    }\n",
              "</style>\n",
              "<table border=\"1\" class=\"dataframe\">\n",
              "  <thead>\n",
              "    <tr style=\"text-align: right;\">\n",
              "      <th></th>\n",
              "      <th>close_price</th>\n",
              "      <th>highest_price</th>\n",
              "      <th>lowest_price</th>\n",
              "    </tr>\n",
              "  </thead>\n",
              "  <tbody>\n",
              "    <tr>\n",
              "      <th>0</th>\n",
              "      <td>4.99</td>\n",
              "      <td>4.99</td>\n",
              "      <td>4.92</td>\n",
              "    </tr>\n",
              "    <tr>\n",
              "      <th>1</th>\n",
              "      <td>4.94</td>\n",
              "      <td>4.95</td>\n",
              "      <td>4.90</td>\n",
              "    </tr>\n",
              "    <tr>\n",
              "      <th>2</th>\n",
              "      <td>4.90</td>\n",
              "      <td>5.00</td>\n",
              "      <td>4.88</td>\n",
              "    </tr>\n",
              "    <tr>\n",
              "      <th>3</th>\n",
              "      <td>4.92</td>\n",
              "      <td>5.10</td>\n",
              "      <td>4.91</td>\n",
              "    </tr>\n",
              "    <tr>\n",
              "      <th>4</th>\n",
              "      <td>4.91</td>\n",
              "      <td>4.96</td>\n",
              "      <td>4.88</td>\n",
              "    </tr>\n",
              "  </tbody>\n",
              "</table>\n",
              "</div>\n",
              "    <div class=\"colab-df-buttons\">\n",
              "\n",
              "  <div class=\"colab-df-container\">\n",
              "    <button class=\"colab-df-convert\" onclick=\"convertToInteractive('df-02edfba6-1ea8-45e7-a419-ebacfbded645')\"\n",
              "            title=\"Convert this dataframe to an interactive table.\"\n",
              "            style=\"display:none;\">\n",
              "\n",
              "  <svg xmlns=\"http://www.w3.org/2000/svg\" height=\"24px\" viewBox=\"0 -960 960 960\">\n",
              "    <path d=\"M120-120v-720h720v720H120Zm60-500h600v-160H180v160Zm220 220h160v-160H400v160Zm0 220h160v-160H400v160ZM180-400h160v-160H180v160Zm440 0h160v-160H620v160ZM180-180h160v-160H180v160Zm440 0h160v-160H620v160Z\"/>\n",
              "  </svg>\n",
              "    </button>\n",
              "\n",
              "  <style>\n",
              "    .colab-df-container {\n",
              "      display:flex;\n",
              "      gap: 12px;\n",
              "    }\n",
              "\n",
              "    .colab-df-convert {\n",
              "      background-color: #E8F0FE;\n",
              "      border: none;\n",
              "      border-radius: 50%;\n",
              "      cursor: pointer;\n",
              "      display: none;\n",
              "      fill: #1967D2;\n",
              "      height: 32px;\n",
              "      padding: 0 0 0 0;\n",
              "      width: 32px;\n",
              "    }\n",
              "\n",
              "    .colab-df-convert:hover {\n",
              "      background-color: #E2EBFA;\n",
              "      box-shadow: 0px 1px 2px rgba(60, 64, 67, 0.3), 0px 1px 3px 1px rgba(60, 64, 67, 0.15);\n",
              "      fill: #174EA6;\n",
              "    }\n",
              "\n",
              "    .colab-df-buttons div {\n",
              "      margin-bottom: 4px;\n",
              "    }\n",
              "\n",
              "    [theme=dark] .colab-df-convert {\n",
              "      background-color: #3B4455;\n",
              "      fill: #D2E3FC;\n",
              "    }\n",
              "\n",
              "    [theme=dark] .colab-df-convert:hover {\n",
              "      background-color: #434B5C;\n",
              "      box-shadow: 0px 1px 3px 1px rgba(0, 0, 0, 0.15);\n",
              "      filter: drop-shadow(0px 1px 2px rgba(0, 0, 0, 0.3));\n",
              "      fill: #FFFFFF;\n",
              "    }\n",
              "  </style>\n",
              "\n",
              "    <script>\n",
              "      const buttonEl =\n",
              "        document.querySelector('#df-02edfba6-1ea8-45e7-a419-ebacfbded645 button.colab-df-convert');\n",
              "      buttonEl.style.display =\n",
              "        google.colab.kernel.accessAllowed ? 'block' : 'none';\n",
              "\n",
              "      async function convertToInteractive(key) {\n",
              "        const element = document.querySelector('#df-02edfba6-1ea8-45e7-a419-ebacfbded645');\n",
              "        const dataTable =\n",
              "          await google.colab.kernel.invokeFunction('convertToInteractive',\n",
              "                                                    [key], {});\n",
              "        if (!dataTable) return;\n",
              "\n",
              "        const docLinkHtml = 'Like what you see? Visit the ' +\n",
              "          '<a target=\"_blank\" href=https://colab.research.google.com/notebooks/data_table.ipynb>data table notebook</a>'\n",
              "          + ' to learn more about interactive tables.';\n",
              "        element.innerHTML = '';\n",
              "        dataTable['output_type'] = 'display_data';\n",
              "        await google.colab.output.renderOutput(dataTable, element);\n",
              "        const docLink = document.createElement('div');\n",
              "        docLink.innerHTML = docLinkHtml;\n",
              "        element.appendChild(docLink);\n",
              "      }\n",
              "    </script>\n",
              "  </div>\n",
              "\n",
              "\n",
              "<div id=\"df-a28f6f3b-7105-4fc1-8f75-ce70507323b7\">\n",
              "  <button class=\"colab-df-quickchart\" onclick=\"quickchart('df-a28f6f3b-7105-4fc1-8f75-ce70507323b7')\"\n",
              "            title=\"Suggest charts\"\n",
              "            style=\"display:none;\">\n",
              "\n",
              "<svg xmlns=\"http://www.w3.org/2000/svg\" height=\"24px\"viewBox=\"0 0 24 24\"\n",
              "     width=\"24px\">\n",
              "    <g>\n",
              "        <path d=\"M19 3H5c-1.1 0-2 .9-2 2v14c0 1.1.9 2 2 2h14c1.1 0 2-.9 2-2V5c0-1.1-.9-2-2-2zM9 17H7v-7h2v7zm4 0h-2V7h2v10zm4 0h-2v-4h2v4z\"/>\n",
              "    </g>\n",
              "</svg>\n",
              "  </button>\n",
              "\n",
              "<style>\n",
              "  .colab-df-quickchart {\n",
              "      --bg-color: #E8F0FE;\n",
              "      --fill-color: #1967D2;\n",
              "      --hover-bg-color: #E2EBFA;\n",
              "      --hover-fill-color: #174EA6;\n",
              "      --disabled-fill-color: #AAA;\n",
              "      --disabled-bg-color: #DDD;\n",
              "  }\n",
              "\n",
              "  [theme=dark] .colab-df-quickchart {\n",
              "      --bg-color: #3B4455;\n",
              "      --fill-color: #D2E3FC;\n",
              "      --hover-bg-color: #434B5C;\n",
              "      --hover-fill-color: #FFFFFF;\n",
              "      --disabled-bg-color: #3B4455;\n",
              "      --disabled-fill-color: #666;\n",
              "  }\n",
              "\n",
              "  .colab-df-quickchart {\n",
              "    background-color: var(--bg-color);\n",
              "    border: none;\n",
              "    border-radius: 50%;\n",
              "    cursor: pointer;\n",
              "    display: none;\n",
              "    fill: var(--fill-color);\n",
              "    height: 32px;\n",
              "    padding: 0;\n",
              "    width: 32px;\n",
              "  }\n",
              "\n",
              "  .colab-df-quickchart:hover {\n",
              "    background-color: var(--hover-bg-color);\n",
              "    box-shadow: 0 1px 2px rgba(60, 64, 67, 0.3), 0 1px 3px 1px rgba(60, 64, 67, 0.15);\n",
              "    fill: var(--button-hover-fill-color);\n",
              "  }\n",
              "\n",
              "  .colab-df-quickchart-complete:disabled,\n",
              "  .colab-df-quickchart-complete:disabled:hover {\n",
              "    background-color: var(--disabled-bg-color);\n",
              "    fill: var(--disabled-fill-color);\n",
              "    box-shadow: none;\n",
              "  }\n",
              "\n",
              "  .colab-df-spinner {\n",
              "    border: 2px solid var(--fill-color);\n",
              "    border-color: transparent;\n",
              "    border-bottom-color: var(--fill-color);\n",
              "    animation:\n",
              "      spin 1s steps(1) infinite;\n",
              "  }\n",
              "\n",
              "  @keyframes spin {\n",
              "    0% {\n",
              "      border-color: transparent;\n",
              "      border-bottom-color: var(--fill-color);\n",
              "      border-left-color: var(--fill-color);\n",
              "    }\n",
              "    20% {\n",
              "      border-color: transparent;\n",
              "      border-left-color: var(--fill-color);\n",
              "      border-top-color: var(--fill-color);\n",
              "    }\n",
              "    30% {\n",
              "      border-color: transparent;\n",
              "      border-left-color: var(--fill-color);\n",
              "      border-top-color: var(--fill-color);\n",
              "      border-right-color: var(--fill-color);\n",
              "    }\n",
              "    40% {\n",
              "      border-color: transparent;\n",
              "      border-right-color: var(--fill-color);\n",
              "      border-top-color: var(--fill-color);\n",
              "    }\n",
              "    60% {\n",
              "      border-color: transparent;\n",
              "      border-right-color: var(--fill-color);\n",
              "    }\n",
              "    80% {\n",
              "      border-color: transparent;\n",
              "      border-right-color: var(--fill-color);\n",
              "      border-bottom-color: var(--fill-color);\n",
              "    }\n",
              "    90% {\n",
              "      border-color: transparent;\n",
              "      border-bottom-color: var(--fill-color);\n",
              "    }\n",
              "  }\n",
              "</style>\n",
              "\n",
              "  <script>\n",
              "    async function quickchart(key) {\n",
              "      const quickchartButtonEl =\n",
              "        document.querySelector('#' + key + ' button');\n",
              "      quickchartButtonEl.disabled = true;  // To prevent multiple clicks.\n",
              "      quickchartButtonEl.classList.add('colab-df-spinner');\n",
              "      try {\n",
              "        const charts = await google.colab.kernel.invokeFunction(\n",
              "            'suggestCharts', [key], {});\n",
              "      } catch (error) {\n",
              "        console.error('Error during call to suggestCharts:', error);\n",
              "      }\n",
              "      quickchartButtonEl.classList.remove('colab-df-spinner');\n",
              "      quickchartButtonEl.classList.add('colab-df-quickchart-complete');\n",
              "    }\n",
              "    (() => {\n",
              "      let quickchartButtonEl =\n",
              "        document.querySelector('#df-a28f6f3b-7105-4fc1-8f75-ce70507323b7 button');\n",
              "      quickchartButtonEl.style.display =\n",
              "        google.colab.kernel.accessAllowed ? 'block' : 'none';\n",
              "    })();\n",
              "  </script>\n",
              "</div>\n",
              "\n",
              "    </div>\n",
              "  </div>\n"
            ]
          },
          "metadata": {},
          "execution_count": 23
        }
      ]
    },
    {
      "cell_type": "code",
      "source": [
        "dt.shape"
      ],
      "metadata": {
        "colab": {
          "base_uri": "https://localhost:8080/"
        },
        "id": "j6euqwZBc7DI",
        "outputId": "feba05d9-2e28-4e67-e47e-197b511f94c8"
      },
      "execution_count": 26,
      "outputs": [
        {
          "output_type": "execute_result",
          "data": {
            "text/plain": [
              "(673, 3)"
            ]
          },
          "metadata": {},
          "execution_count": 26
        }
      ]
    },
    {
      "cell_type": "code",
      "source": [
        "dt_train = dt[:int(dt.shape[0]/5*3)]\n",
        "dt_val = dt[int(dt.shape[0]/5*3):int(dt.shape[0]/5*4)]\n",
        "dt_test = dt[int(dt.shape[0]/5*4):]\n",
        "dt_val = dt_val.reset_index(drop=True)\n",
        "dt_test = dt_test.reset_index(drop=True)"
      ],
      "metadata": {
        "id": "PNLiUqvxsYdg"
      },
      "execution_count": 80,
      "outputs": []
    },
    {
      "cell_type": "code",
      "source": [
        "def create_dataset(dt, prediction_days = 10):\n",
        "  x = []\n",
        "  y = []\n",
        "  for i in range(prediction_days, len(dt)):\n",
        "      x.append(dt[i - prediction_days:i])\n",
        "      y.append(dt.loc[i])\n",
        "\n",
        "  x, y = np.array(x), np.array(y)\n",
        "  x = np.reshape(x, (x.shape[0], x.shape[2], x.shape[1]))\n",
        "  return x, y"
      ],
      "metadata": {
        "id": "fO0uIu_7saI2"
      },
      "execution_count": 72,
      "outputs": []
    },
    {
      "cell_type": "code",
      "source": [
        "x_train, y_train = create_dataset(dt_train)\n",
        "x_val, y_val = create_dataset(dt_val)\n",
        "x_test, y_test = create_dataset(dt_test)"
      ],
      "metadata": {
        "id": "Z2HJcJA_evbj"
      },
      "execution_count": 73,
      "outputs": []
    },
    {
      "cell_type": "code",
      "source": [
        "x_train.shape"
      ],
      "metadata": {
        "colab": {
          "base_uri": "https://localhost:8080/"
        },
        "id": "uJKghPalmCfr",
        "outputId": "b5957e11-39a2-4217-c166-f554e0246134"
      },
      "execution_count": 82,
      "outputs": [
        {
          "output_type": "execute_result",
          "data": {
            "text/plain": [
              "(393, 1, 10)"
            ]
          },
          "metadata": {},
          "execution_count": 82
        }
      ]
    },
    {
      "cell_type": "code",
      "source": [
        "x_train = np.repeat(x_train, 10, axis=0)\n",
        "y_train = np.repeat(y_train, 10, axis=0)"
      ],
      "metadata": {
        "id": "cPX5QvHfmIzJ"
      },
      "execution_count": 85,
      "outputs": []
    },
    {
      "cell_type": "markdown",
      "source": [
        "# Model"
      ],
      "metadata": {
        "id": "S6oOtBYEs2eh"
      }
    },
    {
      "cell_type": "code",
      "source": [
        "def LSTM_model(input_0 = 3):\n",
        "    model = Sequential()\n",
        "\n",
        "    model.add(LSTM(units=10, return_sequences=True, input_shape=(1, 10)))\n",
        "    model.add(Dropout(0.2))\n",
        "\n",
        "    model.add(LSTM(units=10, return_sequences=True))\n",
        "    model.add(Dropout(0.2))\n",
        "\n",
        "    model.add(LSTM(units=10))\n",
        "    model.add(Dropout(0.2))\n",
        "\n",
        "    model.add(Dense(units=1))\n",
        "\n",
        "    return model"
      ],
      "metadata": {
        "id": "uy9utR69sdg_"
      },
      "execution_count": 70,
      "outputs": []
    },
    {
      "cell_type": "code",
      "source": [
        "model = LSTM_model()\n",
        "model.summary()"
      ],
      "metadata": {
        "colab": {
          "base_uri": "https://localhost:8080/"
        },
        "id": "DW5LkZLZYdE3",
        "outputId": "dbaa9f51-3c84-47a1-cdd5-de5c3ff01fe4"
      },
      "execution_count": 86,
      "outputs": [
        {
          "output_type": "stream",
          "name": "stdout",
          "text": [
            "Model: \"sequential_3\"\n",
            "_________________________________________________________________\n",
            " Layer (type)                Output Shape              Param #   \n",
            "=================================================================\n",
            " lstm_9 (LSTM)               (None, 1, 10)             840       \n",
            "                                                                 \n",
            " dropout_9 (Dropout)         (None, 1, 10)             0         \n",
            "                                                                 \n",
            " lstm_10 (LSTM)              (None, 1, 10)             840       \n",
            "                                                                 \n",
            " dropout_10 (Dropout)        (None, 1, 10)             0         \n",
            "                                                                 \n",
            " lstm_11 (LSTM)              (None, 10)                840       \n",
            "                                                                 \n",
            " dropout_11 (Dropout)        (None, 10)                0         \n",
            "                                                                 \n",
            " dense_3 (Dense)             (None, 1)                 11        \n",
            "                                                                 \n",
            "=================================================================\n",
            "Total params: 2531 (9.89 KB)\n",
            "Trainable params: 2531 (9.89 KB)\n",
            "Non-trainable params: 0 (0.00 Byte)\n",
            "_________________________________________________________________\n"
          ]
        }
      ]
    },
    {
      "cell_type": "code",
      "source": [
        "model.compile(\n",
        "    optimizer='adam',\n",
        "    loss='mean_squared_error'\n",
        ")"
      ],
      "metadata": {
        "id": "JANOq49WYT2O"
      },
      "execution_count": 87,
      "outputs": []
    },
    {
      "cell_type": "markdown",
      "source": [
        "# Training"
      ],
      "metadata": {
        "id": "95yME1artK8j"
      }
    },
    {
      "cell_type": "code",
      "source": [
        "checkpointer = ModelCheckpoint(\n",
        "    filepath = 'weights_best.hdf5',\n",
        "    verbose = 2,\n",
        "    save_best_only = True\n",
        ")\n",
        "\n",
        "model.fit(\n",
        "    x_train,\n",
        "    y_train,\n",
        "    epochs=25,\n",
        "    batch_size = 32,\n",
        "    callbacks = [checkpointer],\n",
        "    validation_data=(x_val, y_val)\n",
        ")"
      ],
      "metadata": {
        "colab": {
          "base_uri": "https://localhost:8080/"
        },
        "id": "iPZ_eQNQtJKq",
        "outputId": "7adaa2a0-84f5-4257-9599-a254ab0cd9d7"
      },
      "execution_count": 88,
      "outputs": [
        {
          "output_type": "stream",
          "name": "stdout",
          "text": [
            "Epoch 1/25\n",
            "122/123 [============================>.] - ETA: 0s - loss: 59.9823\n",
            "Epoch 1: val_loss improved from inf to 246.61131, saving model to weights_best.hdf5\n",
            "123/123 [==============================] - 6s 11ms/step - loss: 59.8400 - val_loss: 246.6113\n",
            "Epoch 2/25\n",
            " 49/123 [==========>...................] - ETA: 0s - loss: 36.4003"
          ]
        },
        {
          "output_type": "stream",
          "name": "stderr",
          "text": [
            "/usr/local/lib/python3.10/dist-packages/keras/src/engine/training.py:3103: UserWarning: You are saving your model as an HDF5 file via `model.save()`. This file format is considered legacy. We recommend using instead the native Keras format, e.g. `model.save('my_model.keras')`.\n",
            "  saving_api.save_model(\n"
          ]
        },
        {
          "output_type": "stream",
          "name": "stdout",
          "text": [
            "111/123 [==========================>...] - ETA: 0s - loss: 30.0534\n",
            "Epoch 2: val_loss improved from 246.61131 to 168.00456, saving model to weights_best.hdf5\n",
            "123/123 [==============================] - 0s 4ms/step - loss: 29.2000 - val_loss: 168.0046\n",
            "Epoch 3/25\n",
            "123/123 [==============================] - ETA: 0s - loss: 16.5001\n",
            "Epoch 3: val_loss improved from 168.00456 to 139.19650, saving model to weights_best.hdf5\n",
            "123/123 [==============================] - 1s 4ms/step - loss: 16.5001 - val_loss: 139.1965\n",
            "Epoch 4/25\n",
            "122/123 [============================>.] - ETA: 0s - loss: 13.0550\n",
            "Epoch 4: val_loss improved from 139.19650 to 123.40822, saving model to weights_best.hdf5\n",
            "123/123 [==============================] - 0s 4ms/step - loss: 13.0967 - val_loss: 123.4082\n",
            "Epoch 5/25\n",
            "117/123 [===========================>..] - ETA: 0s - loss: 11.8200\n",
            "Epoch 5: val_loss improved from 123.40822 to 114.10083, saving model to weights_best.hdf5\n",
            "123/123 [==============================] - 0s 4ms/step - loss: 11.8089 - val_loss: 114.1008\n",
            "Epoch 6/25\n",
            "111/123 [==========================>...] - ETA: 0s - loss: 11.1985\n",
            "Epoch 6: val_loss improved from 114.10083 to 108.61443, saving model to weights_best.hdf5\n",
            "123/123 [==============================] - 0s 4ms/step - loss: 11.1862 - val_loss: 108.6144\n",
            "Epoch 7/25\n",
            "121/123 [============================>.] - ETA: 0s - loss: 10.2855\n",
            "Epoch 7: val_loss improved from 108.61443 to 101.12115, saving model to weights_best.hdf5\n",
            "123/123 [==============================] - 0s 4ms/step - loss: 10.2457 - val_loss: 101.1212\n",
            "Epoch 8/25\n",
            "117/123 [===========================>..] - ETA: 0s - loss: 7.9305\n",
            "Epoch 8: val_loss improved from 101.12115 to 87.72378, saving model to weights_best.hdf5\n",
            "123/123 [==============================] - 1s 4ms/step - loss: 7.9412 - val_loss: 87.7238\n",
            "Epoch 9/25\n",
            "123/123 [==============================] - ETA: 0s - loss: 6.2258\n",
            "Epoch 9: val_loss improved from 87.72378 to 76.54762, saving model to weights_best.hdf5\n",
            "123/123 [==============================] - 1s 6ms/step - loss: 6.2258 - val_loss: 76.5476\n",
            "Epoch 10/25\n",
            "117/123 [===========================>..] - ETA: 0s - loss: 5.3870\n",
            "Epoch 10: val_loss improved from 76.54762 to 67.58178, saving model to weights_best.hdf5\n",
            "123/123 [==============================] - 1s 5ms/step - loss: 5.3526 - val_loss: 67.5818\n",
            "Epoch 11/25\n",
            "113/123 [==========================>...] - ETA: 0s - loss: 4.3689\n",
            "Epoch 11: val_loss improved from 67.58178 to 60.42580, saving model to weights_best.hdf5\n",
            "123/123 [==============================] - 1s 4ms/step - loss: 4.4376 - val_loss: 60.4258\n",
            "Epoch 12/25\n",
            "114/123 [==========================>...] - ETA: 0s - loss: 3.7750\n",
            "Epoch 12: val_loss improved from 60.42580 to 54.45536, saving model to weights_best.hdf5\n",
            "123/123 [==============================] - 0s 4ms/step - loss: 3.7487 - val_loss: 54.4554\n",
            "Epoch 13/25\n",
            "109/123 [=========================>....] - ETA: 0s - loss: 3.2251\n",
            "Epoch 13: val_loss improved from 54.45536 to 49.21402, saving model to weights_best.hdf5\n",
            "123/123 [==============================] - 1s 4ms/step - loss: 3.2401 - val_loss: 49.2140\n",
            "Epoch 14/25\n",
            "123/123 [==============================] - ETA: 0s - loss: 2.9500\n",
            "Epoch 14: val_loss improved from 49.21402 to 45.22481, saving model to weights_best.hdf5\n",
            "123/123 [==============================] - 1s 4ms/step - loss: 2.9500 - val_loss: 45.2248\n",
            "Epoch 15/25\n",
            "122/123 [============================>.] - ETA: 0s - loss: 2.8232\n",
            "Epoch 15: val_loss improved from 45.22481 to 41.51979, saving model to weights_best.hdf5\n",
            "123/123 [==============================] - 0s 4ms/step - loss: 2.8205 - val_loss: 41.5198\n",
            "Epoch 16/25\n",
            "116/123 [===========================>..] - ETA: 0s - loss: 2.6212\n",
            "Epoch 16: val_loss improved from 41.51979 to 38.80538, saving model to weights_best.hdf5\n",
            "123/123 [==============================] - 1s 4ms/step - loss: 2.5978 - val_loss: 38.8054\n",
            "Epoch 17/25\n",
            "122/123 [============================>.] - ETA: 0s - loss: 2.1879\n",
            "Epoch 17: val_loss improved from 38.80538 to 36.25274, saving model to weights_best.hdf5\n",
            "123/123 [==============================] - 0s 4ms/step - loss: 2.1886 - val_loss: 36.2527\n",
            "Epoch 18/25\n",
            "115/123 [===========================>..] - ETA: 0s - loss: 2.2679\n",
            "Epoch 18: val_loss improved from 36.25274 to 33.95263, saving model to weights_best.hdf5\n",
            "123/123 [==============================] - 0s 4ms/step - loss: 2.2459 - val_loss: 33.9526\n",
            "Epoch 19/25\n",
            "113/123 [==========================>...] - ETA: 0s - loss: 2.0453\n",
            "Epoch 19: val_loss improved from 33.95263 to 31.98271, saving model to weights_best.hdf5\n",
            "123/123 [==============================] - 0s 4ms/step - loss: 2.0419 - val_loss: 31.9827\n",
            "Epoch 20/25\n",
            "120/123 [============================>.] - ETA: 0s - loss: 2.1010\n",
            "Epoch 20: val_loss improved from 31.98271 to 30.57130, saving model to weights_best.hdf5\n",
            "123/123 [==============================] - 0s 3ms/step - loss: 2.0952 - val_loss: 30.5713\n",
            "Epoch 21/25\n",
            "118/123 [===========================>..] - ETA: 0s - loss: 1.9561\n",
            "Epoch 21: val_loss improved from 30.57130 to 29.20591, saving model to weights_best.hdf5\n",
            "123/123 [==============================] - 0s 3ms/step - loss: 1.9735 - val_loss: 29.2059\n",
            "Epoch 22/25\n",
            "118/123 [===========================>..] - ETA: 0s - loss: 1.9303\n",
            "Epoch 22: val_loss improved from 29.20591 to 28.13326, saving model to weights_best.hdf5\n",
            "123/123 [==============================] - 0s 4ms/step - loss: 1.9191 - val_loss: 28.1333\n",
            "Epoch 23/25\n",
            "112/123 [==========================>...] - ETA: 0s - loss: 1.8340\n",
            "Epoch 23: val_loss improved from 28.13326 to 26.73007, saving model to weights_best.hdf5\n",
            "123/123 [==============================] - 1s 4ms/step - loss: 1.8598 - val_loss: 26.7301\n",
            "Epoch 24/25\n",
            "111/123 [==========================>...] - ETA: 0s - loss: 1.7658\n",
            "Epoch 24: val_loss improved from 26.73007 to 26.22697, saving model to weights_best.hdf5\n",
            "123/123 [==============================] - 0s 4ms/step - loss: 1.7670 - val_loss: 26.2270\n",
            "Epoch 25/25\n",
            "116/123 [===========================>..] - ETA: 0s - loss: 1.8383\n",
            "Epoch 25: val_loss improved from 26.22697 to 25.28061, saving model to weights_best.hdf5\n",
            "123/123 [==============================] - 1s 5ms/step - loss: 1.8378 - val_loss: 25.2806\n"
          ]
        },
        {
          "output_type": "execute_result",
          "data": {
            "text/plain": [
              "<keras.src.callbacks.History at 0x786ecdc4ed10>"
            ]
          },
          "metadata": {},
          "execution_count": 88
        }
      ]
    },
    {
      "cell_type": "markdown",
      "source": [
        "# Test"
      ],
      "metadata": {
        "id": "PI81oAX2nyIM"
      }
    },
    {
      "cell_type": "code",
      "source": [
        "# Plot the actual prices using a black line\n",
        "plt.plot(actual_prices, color='black', label=f\"Actual {COMPANY} price\")\n",
        "\n",
        "# Plot the predicted prices using a green line\n",
        "plt.plot(predicted_prices, color='green', label=f\"Predicted {COMPANY} price\")\n",
        "\n",
        "# Set the title of the plot using the company name\n",
        "plt.title(f\"{COMPANY} share price\")\n",
        "\n",
        "# Set the x-axis label as 'time'\n",
        "plt.xlabel(\"time\")\n",
        "\n",
        "# Set the y-axis label using the company name\n",
        "plt.ylabel(f\"{COMPANY} share price\")\n",
        "\n",
        "# Display a legend to differentiate the actual and predicted prices\n",
        "plt.legend()\n",
        "\n",
        "# Show the plot on the screen\n",
        "plt.show()"
      ],
      "metadata": {
        "id": "-JM9wMvj3icV"
      },
      "execution_count": null,
      "outputs": []
    },
    {
      "cell_type": "code",
      "source": [
        "# Extract the last 'prediction_days' values from the model inputs\n",
        "real_data = [model_inputs[len(model_inputs) + 1 - prediction_days:len(model_inputs + 1), 0]]\n",
        "\n",
        "# Convert the real_data list to a numpy array\n",
        "real_data = np.array(real_data)\n",
        "\n",
        "# Reshape real_data to a 3D array with the appropriate dimensions for the LSTM model\n",
        "real_data = np.reshape(real_data, (real_data.shape[0], real_data.shape[1], 1))\n",
        "\n",
        "# Generate a prediction using the LSTM model with the real_data input\n",
        "prediction = model.predict(real_data)\n",
        "\n",
        "# Invert the scaling applied to the prediction to obtain the actual value\n",
        "prediction = scaler.inverse_transform(prediction)\n",
        "\n",
        "# Print the prediction result to the console\n",
        "print(f\"Prediction: {prediction[0][0]}\")"
      ],
      "metadata": {
        "id": "G7ZzL5yH3rhu"
      },
      "execution_count": null,
      "outputs": []
    }
  ]
}